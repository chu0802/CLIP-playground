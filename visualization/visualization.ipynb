{
 "cells": [
  {
   "cell_type": "code",
   "execution_count": null,
   "metadata": {},
   "outputs": [],
   "source": [
    "import matplotlib.pyplot as plt\n",
    "from src.models.clip import get_model\n",
    "from tsnecuda import TSNE\n",
    "import numpy as np\n",
    "from src.datasets.transform import load_transform\n",
    "from src.datasets.utils import get_dataloader, build_iter_dataloader\n",
    "import torch\n",
    "from omegaconf import OmegaConf\n",
    "import torch.nn.functional as F\n",
    "from scipy.spatial.distance import cdist\n",
    "\n",
    "config = OmegaConf.create(\n",
    "    {\n",
    "        \"model\": {\n",
    "            \"vit_base\": \"ViT-B-16\",\n",
    "            \"pretrained\": \"/home/chuyu/vllab/clip/outputs/ViT-B-16/fgvc-aircraft/latest/checkpoint_10.pth\",\n",
    "        },\n",
    "        \"data\": {\n",
    "            \"name\": \"fgvc-aircraft\",\n",
    "            \"root\": \"/mnt/data/classification\",\n",
    "        }\n",
    "    }\n",
    ")\n",
    "\n",
    "def plot_features(feat, labels=None):\n",
    "    plt.figure(figsize=(8, 8))\n",
    "    plt.scatter(feat[:, 0], feat[:, 1], c=labels, cmap=\"tab10\", s=2)\n",
    "    plt.title('t-SNE Visualization of Features')\n",
    "    plt.xlabel('t-SNE Dimension 1')\n",
    "    plt.ylabel('t-SNE Dimension 2')\n",
    "    plt.show()\n",
    "\n",
    "def prepare_dataloader(dataset, batch_size=32, shuffle=True, drop_last=False, mode=\"train\", sample_num=-1):\n",
    "    train_trans, eval_trans = load_transform()\n",
    "    config = {\n",
    "        \"batch_size\": batch_size,\n",
    "        \"shuffle\": shuffle,\n",
    "        \"drop_last\": drop_last,\n",
    "        \"sample_num\": sample_num,\n",
    "    }\n",
    "    return get_dataloader(dataset, \"/mnt/data/classification/\", mode, train_trans if mode==\"train\" else eval_trans, **config)\n",
    "\n",
    "def get_tsne_features(feats, perplexity=15, learning_rate=10):\n",
    "    return TSNE(n_components=2, perplexity=perplexity, learning_rate=learning_rate).fit_transform(feats)\n"
   ]
  },
  {
   "cell_type": "code",
   "execution_count": null,
   "metadata": {},
   "outputs": [],
   "source": [
    "fine_model = get_model(config)"
   ]
  },
  {
   "cell_type": "code",
   "execution_count": null,
   "metadata": {},
   "outputs": [],
   "source": [
    "dataloader = prepare_dataloader(\"imagenet\", mode=\"train\", shuffle=False, sample_num=100_000)"
   ]
  },
  {
   "cell_type": "code",
   "execution_count": null,
   "metadata": {},
   "outputs": [],
   "source": []
  },
  {
   "cell_type": "code",
   "execution_count": null,
   "metadata": {},
   "outputs": [],
   "source": [
    "\n",
    "# fine_model = load_pretrained_model()\n",
    "# dataloader = prepare_dataloader(\"fgvc-aircraft\", mode=\"train\")\n",
    "\n",
    "output_features = []\n",
    "labels = []\n",
    "\n",
    "dataloader.init()\n",
    "with torch.no_grad():\n",
    "    for x, y in dataloader:\n",
    "        output_features.append(fine_model.get_features(x))\n",
    "        labels.append(y)\n",
    "    output_features = torch.cat(output_features, dim=0).cpu().detach().numpy()\n",
    "    labels = torch.cat(labels, dim=0).flatten().cpu().detach().numpy()\n",
    "print(output_features.shape)"
   ]
  },
  {
   "cell_type": "code",
   "execution_count": null,
   "metadata": {},
   "outputs": [],
   "source": [
    "dataloader.init()\n",
    "for x, y in dataloader:\n",
    "    print(x, y)\n",
    "    break"
   ]
  },
  {
   "cell_type": "code",
   "execution_count": null,
   "metadata": {},
   "outputs": [],
   "source": [
    "mean_features = np.stack([output_features[labels==label].mean(axis=0) for label in np.unique(labels)], axis=0)"
   ]
  },
  {
   "cell_type": "code",
   "execution_count": null,
   "metadata": {},
   "outputs": [],
   "source": [
    "learnable_input = torch.load(\"learnable_input_with_gt_labels.pt\")\n",
    "learnable_input_loader = build_iter_dataloader(\n",
    "    learnable_input,\n",
    "    batch_size=32,\n",
    "    num_workers=4,\n",
    "    shuffle=False,\n",
    "    drop_last=False,\n",
    "    device=\"cuda\",\n",
    ")\n",
    "learnable_input_loader.init()\n",
    "learnable_features = []\n",
    "with torch.no_grad():\n",
    "    for x in learnable_input_loader:\n",
    "        learnable_features.append(fine_model.get_features(x))\n",
    "    learnable_features = torch.cat(learnable_features, dim=0).cpu().detach().numpy()\n",
    "print(learnable_features.shape)"
   ]
  },
  {
   "cell_type": "code",
   "execution_count": null,
   "metadata": {},
   "outputs": [],
   "source": [
    "head_features = fine_model.classification_head.weight.data.cpu().detach().numpy() / 100"
   ]
  },
  {
   "cell_type": "code",
   "execution_count": null,
   "metadata": {},
   "outputs": [],
   "source": [
    "learnable_mean_features = learnable_features.mean(axis=0).reshape(1, -1)"
   ]
  },
  {
   "cell_type": "code",
   "execution_count": null,
   "metadata": {},
   "outputs": [],
   "source": [
    "cdist(output_features, head_features).min(axis=1)"
   ]
  },
  {
   "cell_type": "code",
   "execution_count": null,
   "metadata": {},
   "outputs": [],
   "source": [
    "learnable_labels = np.tile(np.arange(0, 100), (10, 1)).transpose(1, 0).reshape(-1)\n",
    "all_features = np.r_[output_features, learnable_features]\n",
    "\n",
    "tsne_features = get_tsne_features(all_features)\n",
    "\n",
    "original_feats, learnable_feats = tsne_features[:output_features.shape[0], :], tsne_features[output_features.shape[0]:, :]\n",
    "plt.figure(figsize=(8, 8))\n",
    "plt.scatter(original_feats[:, 0], original_feats[:, 1], c=labels, cmap=\"tab10\", s=2)\n",
    "plt.scatter(learnable_feats[:, 0], learnable_feats[:, 1], c=learnable_labels, cmap=\"tab10\", s=1)\n",
    "plt.show()"
   ]
  },
  {
   "cell_type": "code",
   "execution_count": null,
   "metadata": {},
   "outputs": [],
   "source": [
    "learnable_input_loader.init()\n",
    "with torch.no_grad():\n",
    "    for x in learnable_input_loader:\n",
    "        train_logits = F.softmax(fine_model(x), dim=-1)\n",
    "        break"
   ]
  },
  {
   "cell_type": "code",
   "execution_count": null,
   "metadata": {},
   "outputs": [],
   "source": [
    "\n",
    "\n",
    "# random_noise = torch.randn(32, 3, 224, 224).cuda()\n",
    "# with torch.no_grad():\n",
    "#     logits = F.softmax(fine_model(learnable_input), dim=-1)\n",
    "#     random_logits = F.softmax(fine_model(random_noise), dim=-1)\n",
    "\n",
    "# print(logits.max(dim=-1))\n",
    "# print(random_logits.max(dim=-1))\n",
    "print(train_logits.max(dim=-1))"
   ]
  },
  {
   "cell_type": "code",
   "execution_count": null,
   "metadata": {},
   "outputs": [],
   "source": [
    "logits[0]"
   ]
  }
 ],
 "metadata": {
  "kernelspec": {
   "display_name": "clip",
   "language": "python",
   "name": "python3"
  },
  "language_info": {
   "codemirror_mode": {
    "name": "ipython",
    "version": 3
   },
   "file_extension": ".py",
   "mimetype": "text/x-python",
   "name": "python",
   "nbconvert_exporter": "python",
   "pygments_lexer": "ipython3",
   "version": "3.10.13"
  }
 },
 "nbformat": 4,
 "nbformat_minor": 2
}
