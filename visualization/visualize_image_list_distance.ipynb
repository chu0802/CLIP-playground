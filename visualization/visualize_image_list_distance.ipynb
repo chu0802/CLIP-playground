{
 "cells": [
  {
   "cell_type": "code",
   "execution_count": 17,
   "metadata": {},
   "outputs": [],
   "source": [
    "from src.datasets.base import ImageListDataset\n",
    "from src.datasets.transform import RAW_TRANSFORM\n",
    "from torchvision.utils import save_image\n",
    "from scripts.utils import DEFAULT_DATASET_SEQ\n",
    "\n",
    "for dataset_name in DEFAULT_DATASET_SEQ:\n",
    "    dataset = ImageListDataset(image_list_path=f\"visualization/{dataset_name}_largest_distance.txt\", transform=RAW_TRANSFORM)\n",
    "\n",
    "    visualized_dataset = enumerate(dataset)\n",
    "    images = [dataset[i][0] for i in range(25)]\n",
    "    save_image(images, f\"visualization/{dataset_name}.png\", nrow=5)"
   ]
  }
 ],
 "metadata": {
  "kernelspec": {
   "display_name": "clip",
   "language": "python",
   "name": "python3"
  },
  "language_info": {
   "codemirror_mode": {
    "name": "ipython",
    "version": 3
   },
   "file_extension": ".py",
   "mimetype": "text/x-python",
   "name": "python",
   "nbconvert_exporter": "python",
   "pygments_lexer": "ipython3",
   "version": "3.10.13"
  }
 },
 "nbformat": 4,
 "nbformat_minor": 2
}
