{
 "cells": [
  {
   "cell_type": "code",
   "execution_count": 11,
   "metadata": {},
   "outputs": [],
   "source": [
    "from src.datasets.base import ImageListDataset\n",
    "from src.datasets.transform import RAW_TRANSFORM\n",
    "from torchvision.utils import save_image\n",
    "\n",
    "dataset = ImageListDataset(image_list_path=\"largest_distance.txt\", transform=RAW_TRANSFORM)\n",
    "\n",
    "visualized_dataset = enumerate(dataset)\n",
    "images = [dataset[i][0] for i in range(100)]\n",
    "save_image(images, \"test.png\", nrow=10)"
   ]
  },
  {
   "cell_type": "code",
   "execution_count": null,
   "metadata": {},
   "outputs": [],
   "source": [
    "_, (image, _, _) =  next(visualized_dataset)\n",
    "display(image)"
   ]
  }
 ],
 "metadata": {
  "kernelspec": {
   "display_name": "clip",
   "language": "python",
   "name": "python3"
  },
  "language_info": {
   "codemirror_mode": {
    "name": "ipython",
    "version": 3
   },
   "file_extension": ".py",
   "mimetype": "text/x-python",
   "name": "python",
   "nbconvert_exporter": "python",
   "pygments_lexer": "ipython3",
   "version": "3.10.13"
  }
 },
 "nbformat": 4,
 "nbformat_minor": 2
}
