{
 "cells": [
  {
   "cell_type": "code",
   "execution_count": null,
   "metadata": {},
   "outputs": [],
   "source": [
    "from analysis.utils import load_model_from_pretrained, prepare_dataloader\n",
    "import torch\n",
    "from omegaconf import OmegaConf\n",
    "from src.datasets.base import ImageListDataset\n",
    "from src.datasets.transform import RAW_TRANSFORM\n",
    "from src.datasets.utils import build_iter_dataloader\n",
    "from torchvision.utils import save_image\n",
    "\n",
    "config = OmegaConf.create(\n",
    "    {\n",
    "        \"model\": {\n",
    "            \"vit_base\": \"ViT-B-16\",\n",
    "            \"pretrained\": \"/home/chuyu/vllab/clip/outputs/ViT-B-16/fgvc-aircraft/latest/checkpoint_10.pth\",\n",
    "        },\n",
    "        \"data\": {\n",
    "            \"name\": \"fgvc-aircraft\",\n",
    "            \"root\": \"/mnt/data/classification\",\n",
    "        }\n",
    "    }\n",
    ")\n",
    "\n",
    "dataset = ImageListDataset(image_list_path=\"largest_distance.txt\", transform=RAW_TRANSFORM)\n",
    "\n",
    "visualized_dataset = enumerate(dataset)"
   ]
  },
  {
   "cell_type": "code",
   "execution_count": null,
   "metadata": {},
   "outputs": [],
   "source": [
    "images = [dataset[i][0] for i in range(40)]"
   ]
  },
  {
   "cell_type": "code",
   "execution_count": null,
   "metadata": {},
   "outputs": [],
   "source": [
    "save_image(images, \"test.png\", nrow=8)"
   ]
  },
  {
   "cell_type": "code",
   "execution_count": null,
   "metadata": {},
   "outputs": [],
   "source": [
    "a = images[0]\n",
    "b = images[1]\n",
    "\n",
    "c = 0.5 * a + 0.5 * b\n",
    "\n",
    "save_image(c, 'mixup_img.png')"
   ]
  },
  {
   "cell_type": "code",
   "execution_count": null,
   "metadata": {},
   "outputs": [],
   "source": [
    "_, (image, _, _) = next(visualized_dataset)\n",
    "display(image)"
   ]
  }
 ],
 "metadata": {
  "kernelspec": {
   "display_name": "clip",
   "language": "python",
   "name": "python3"
  },
  "language_info": {
   "codemirror_mode": {
    "name": "ipython",
    "version": 3
   },
   "file_extension": ".py",
   "mimetype": "text/x-python",
   "name": "python",
   "nbconvert_exporter": "python",
   "pygments_lexer": "ipython3",
   "version": "3.10.13"
  }
 },
 "nbformat": 4,
 "nbformat_minor": 2
}
